{
 "cells": [
  {
   "cell_type": "code",
   "execution_count": 1,
   "metadata": {},
   "outputs": [],
   "source": [
    "import pandas as pd\n",
    "import traintools\n",
    "from trainconstants import *\n",
    "from collections import defaultdict\n",
    "import networkx as nx\n",
    "from typing import List, Tuple\n",
    "\n",
    "TrainStop = Tuple[int, int]"
   ]
  },
  {
   "cell_type": "code",
   "execution_count": 2,
   "metadata": {},
   "outputs": [],
   "source": [
    "def attempt_solution_1(G: nx.DiGraph) -> Tuple[int, defaultdict, defaultdict]:\n",
    "    \"\"\"Here is a first attempt at a solution for trains of only one type.\n",
    "\n",
    "    The solution works a follows:\n",
    "    * start by finding the longest path in the graph\n",
    "    * next go through that longest path and subtract the \n",
    "    maximum number of passengers that can fit in the train on each\n",
    "    part of the trip\n",
    "    * recalculate a new longest path in the altered graph and repeat until the \n",
    "    longest path consists of only one node.\n",
    "    * meanwhile keep track of how many trains were needed and at which stations the trains start and end.\n",
    "\n",
    "    Known problems:\n",
    "    * The algorithm will think that it is \"better\" to choose a trip where there are 1000\n",
    "    passengers to be transported than to choose a trip where there are 500 passengers to be transported\n",
    "    eventhough both exeed the capacity of the train so they would both be equilly valid options.\n",
    "    * the number of trains starting and ending at each station is not the same \n",
    "    * the solution is incorrect because of the point mentioned above.\n",
    "    \"\"\"\n",
    "\n",
    "    def do_bookkeeping(path: List[TrainStop]) -> None:\n",
    "        \"\"\"Update the variables that keep track of the total number of trains \n",
    "        and where they start and end.\n",
    "        \"\"\"\n",
    "        nonlocal starting_trains, ending_trains, number_of_trains\n",
    "\n",
    "        starting_trains[path[0][0]].append(path)\n",
    "        ending_trains[path[-1][0]].append(path)\n",
    "        number_of_trains += 1\n",
    "\n",
    "    # set up variables to keep track of the number of trains and at which stations the trains start and end.\n",
    "    starting_trains, ending_trains, number_of_trains = defaultdict(list), defaultdict(list), 0\n",
    "\n",
    "    # find the longest path in the graph\n",
    "    path = nx.dag_longest_path(G, weight='second_class')\n",
    "\n",
    "    # repeat until the longest path consists of only one node\n",
    "    while len(path) != 1:\n",
    "        do_bookkeeping(path)\n",
    "        # go through the longest path and pick up the maximal number of passengers on the way\n",
    "        for index, current_stop in enumerate(path[:-1]):\n",
    "            next_stop = path[index + 1]\n",
    "            G[current_stop][next_stop]['first_class'] -= min(TYPE_3_TRAIN[0], G[current_stop][next_stop]['first_class'])\n",
    "            G[current_stop][next_stop]['second_class'] -= min(TYPE_3_TRAIN[1], G[current_stop][next_stop]['second_class'])\n",
    "        \n",
    "        # recompute the longest path \n",
    "        path = nx.dag_longest_path(G, weight='second_class')\n",
    "\n",
    "    return (\n",
    "        number_of_trains, \n",
    "        {key: len(value) for key, value in starting_trains.items()},\n",
    "        {key: len(value) for key, value in ending_trains.items()}\n",
    "        )"
   ]
  },
  {
   "cell_type": "code",
   "execution_count": 3,
   "metadata": {},
   "outputs": [
    {
     "name": "stdout",
     "output_type": "stream",
     "text": [
      "(24, {4: 7, 2: 13, 3: 4}, {3: 5, 2: 4, 1: 5, 4: 10})\n"
     ]
    }
   ],
   "source": [
    "df = traintools.read_schedule(\"datasets/nsdata1.txt\")\n",
    "G = traintools.graph_from_schedule(df)\n",
    "\n",
    "\n",
    "print(attempt_solution_1(G.copy()))"
   ]
  },
  {
   "cell_type": "code",
   "execution_count": 4,
   "metadata": {},
   "outputs": [],
   "source": [
    "def attempt_solution_2(G: nx.DiGraph) -> Tuple[int, defaultdict, defaultdict]:\n",
    "    \"\"\"Here is a second attempt, it is very similar but tries to fix the endpoints.\n",
    "\n",
    "    This is done through the use of the fact that nx.dag_longest_path returns \"the shortest\" \n",
    "    longest path. Meaning that when the weight of the edges is 0, it does not add any of those edges \n",
    "    to the end of the longest path \n",
    "    (investigate: does it add 'unnecessary edges to the front?')\n",
    "    This means that we can try to\n",
    "    add (all the trains that do not pick up passengers everywhere) empty trips to the front and the back of \n",
    "    these trains and see if we can connect them in a way such that the number of trains at each station \n",
    "    at the beginning of the day is equal to the number of trains at the end of the day. \n",
    "\n",
    "    Note:\n",
    "    * Did not actually implement this yet, as of now this is pretty much the same as solution above.\n",
    "    \"\"\"\n",
    "\n",
    "    def do_bookkeeping(path: List[TrainStop]) -> None:\n",
    "        \"\"\"Update the variables that keep track of the total number of trains \n",
    "        and where they start and end.\n",
    "        \"\"\"\n",
    "        nonlocal starting_trains, ending_trains, number_of_trains\n",
    "\n",
    "        starting_trains[path[0][0]].append(path)\n",
    "        ending_trains[path[-1][0]].append(path)\n",
    "        number_of_trains += 1\n",
    "\n",
    "    # set up variables to keep track of the number of trains and at which stations the trains start and end.\n",
    "    starting_trains, ending_trains, number_of_trains = defaultdict(list), defaultdict(list), 0\n",
    "\n",
    "    # find the longest path in the graph\n",
    "    path = nx.dag_longest_path(G, weight='second_class')\n",
    "\n",
    "    # repeat until the longest path consists of only one node\n",
    "    while len(path) != 1:\n",
    "        do_bookkeeping(path)\n",
    "        # go through the longest path and pick up the maximal number of passengers on the way\n",
    "        for index, current_stop in enumerate(path[:-1]):\n",
    "            next_stop = path[index + 1]\n",
    "            G[current_stop][next_stop]['first_class'] -= min(TYPE_3_TRAIN[0], G[current_stop][next_stop]['first_class'])\n",
    "            G[current_stop][next_stop]['second_class'] -= min(TYPE_3_TRAIN[1], G[current_stop][next_stop]['second_class'])\n",
    "        \n",
    "        # recompute the longest path \n",
    "        path = nx.dag_longest_path(G, weight='second_class')\n",
    "\n",
    "    return (\n",
    "        number_of_trains, \n",
    "        starting_trains, ending_trains\n",
    "        )"
   ]
  },
  {
   "cell_type": "code",
   "execution_count": 5,
   "metadata": {},
   "outputs": [],
   "source": [
    "number_of_trains, starting_trains, ending_trains = attempt_solution_2(G.copy())"
   ]
  },
  {
   "cell_type": "code",
   "execution_count": 6,
   "metadata": {},
   "outputs": [
    {
     "name": "stdout",
     "output_type": "stream",
     "text": [
      "[(4, 330), (4, 414), (3, 468), (3, 472), (2, 512), (2, 515), (2, 538), (2, 542), (3, 581), (3, 583), (3, 590), (3, 593), (2, 632), (2, 634), (1, 698), (1, 716), (2, 778), (2, 782), (3, 821), (3, 823), (3, 830), (3, 833), (2, 872), (2, 875), (1, 938), (1, 956), (2, 1018), (2, 1021), (3, 1063), (3, 1065), (3, 1070), (3, 1073), (2, 1112), (2, 1114), (2, 1138), (2, 1142), (3, 1181), (3, 1183), (3, 1190), (3, 1193), (2, 1232), (2, 1235), (1, 1298), (1, 1316), (2, 1378), (2, 1382), (3, 1434)]\n",
      "[(4, 330), (3, 395), (3, 403), (2, 446), (2, 452), (1, 518), (1, 536), (2, 598), (2, 603), (3, 643), (3, 645), (3, 650), (3, 653), (2, 692), (2, 694), (1, 758), (1, 776), (2, 838), (2, 842), (3, 881), (3, 883), (3, 890), (3, 893), (2, 932), (2, 934), (2, 958), (2, 960), (3, 1003), (3, 1005), (3, 1010), (3, 1013), (2, 1053), (2, 1055), (1, 1118), (1, 1136), (2, 1198), (2, 1202), (3, 1241), (3, 1243), (3, 1249), (3, 1252), (2, 1290), (2, 1292), (1, 1358), (1, 1376), (2, 1438)]\n",
      "[(4, 330), (4, 414), (3, 468), (3, 472), (2, 512), (2, 515), (1, 580), (1, 596), (2, 658), (2, 662), (3, 701), (3, 703), (3, 710), (3, 713), (2, 752), (2, 754), (1, 818), (1, 836), (2, 898), (2, 902), (3, 941), (3, 943), (3, 950), (3, 953), (2, 992), (2, 994), (1, 1058), (1, 1076), (2, 1138), (2, 1142), (3, 1181), (3, 1183), (3, 1190), (3, 1193), (2, 1232), (2, 1235), (2, 1258), (2, 1262), (3, 1301), (3, 1303), (3, 1313), (2, 1352), (2, 1354), (1, 1418)]\n",
      "[(4, 330), (4, 414), (3, 468), (3, 472), (2, 512), (2, 515), (1, 580), (1, 596), (2, 658), (2, 662), (3, 701), (3, 703), (4, 758), (4, 776), (3, 830), (3, 833), (2, 872), (2, 875), (2, 898), (2, 902), (3, 941), (3, 943), (4, 998), (4, 1016), (3, 1070), (3, 1073), (2, 1112), (2, 1114), (1, 1178), (1, 1196), (2, 1258), (2, 1262), (3, 1301)]\n",
      "[(4, 330), (4, 414), (4, 476), (3, 530), (3, 533), (2, 572), (2, 574), (1, 638), (1, 656), (2, 718), (2, 723), (3, 761), (3, 763), (4, 818), (4, 836), (3, 890), (3, 893), (2, 932), (2, 934), (1, 1000), (1, 1016), (2, 1078), (2, 1081), (3, 1122), (3, 1124), (4, 1179)]\n",
      "[(4, 330), (4, 414), (4, 476), (3, 530), (3, 533), (2, 572), (2, 574), (1, 638), (1, 656), (2, 718), (2, 723), (3, 761), (3, 763), (4, 818), (4, 836), (4, 878), (4, 896), (3, 950), (3, 953), (2, 992), (2, 994), (2, 1018), (2, 1021), (3, 1063), (3, 1065), (4, 1120)]\n",
      "[(4, 330), (4, 414), (4, 476), (3, 530), (3, 533), (2, 572), (2, 574), (2, 598), (2, 603), (2, 632), (2, 634), (2, 658), (2, 662), (2, 692), (2, 694), (1, 758), (1, 776), (2, 838), (2, 842), (2, 872), (2, 875), (1, 938), (1, 956), (1, 1000), (1, 1016), (2, 1078), (2, 1081), (3, 1122)]\n",
      "[(2, 331), (1, 399), (1, 408), (2, 475), (2, 481), (3, 521), (3, 523), (3, 530), (3, 533), (2, 572), (2, 574), (1, 638), (1, 656), (2, 718), (2, 723), (3, 761), (3, 763), (3, 770), (3, 773), (2, 812), (2, 815), (1, 878), (1, 896), (2, 958), (2, 960), (3, 1003), (3, 1005), (3, 1010), (3, 1013), (2, 1053), (2, 1055), (2, 1078), (2, 1081), (3, 1122), (3, 1124), (4, 1179), (4, 1195), (3, 1249), (3, 1252), (3, 1301), (3, 1303), (4, 1358)]\n",
      "[(2, 331), (2, 388), (2, 389), (1, 458), (1, 475), (2, 538), (2, 542), (3, 581), (3, 583), (4, 638), (4, 656), (3, 710), (3, 713), (2, 752), (2, 754), (2, 778), (2, 782), (2, 812), (2, 815), (2, 838), (2, 842), (3, 881), (3, 883), (4, 938), (4, 956), (3, 1010), (3, 1013), (2, 1053), (2, 1055), (1, 1118), (1, 1136), (2, 1198), (2, 1202), (3, 1241), (3, 1243), (4, 1298)]\n",
      "[(2, 331), (1, 399), (1, 408), (2, 475), (2, 481), (3, 521), (3, 523), (4, 578), (4, 596), (3, 650), (3, 653), (2, 692), (2, 694), (1, 758), (1, 776), (1, 818), (1, 836), (1, 878), (1, 896), (2, 958), (2, 960), (3, 1003), (3, 1005), (4, 1060), (4, 1076), (3, 1130), (3, 1133), (3, 1181), (3, 1183), (4, 1238)]\n",
      "[(2, 331), (2, 388), (2, 389), (2, 420), (3, 460), (3, 463), (4, 518), (4, 536), (3, 590), (3, 593), (2, 632), (2, 634), (2, 658), (2, 662), (2, 692), (2, 694), (2, 718), (2, 723), (2, 752), (2, 754), (1, 818), (1, 836), (2, 898), (2, 902), (2, 932), (2, 934), (1, 1000), (1, 1016), (2, 1078), (2, 1081), (2, 1112), (2, 1114), (1, 1178), (1, 1196), (2, 1258)]\n",
      "[(2, 331), (2, 388), (2, 389), (2, 420), (3, 460), (3, 463), (3, 468), (3, 472), (2, 512), (2, 515), (1, 580), (1, 596), (2, 658), (2, 662), (3, 701), (3, 703), (4, 758), (4, 776), (3, 830), (3, 833), (3, 881), (3, 883), (4, 938), (4, 956), (3, 1010), (3, 1013), (2, 1053), (2, 1055), (1, 1118)]\n",
      "[(2, 331), (1, 399), (1, 408), (1, 458), (1, 475), (2, 538), (2, 542), (3, 581), (3, 583), (4, 638), (4, 656), (3, 710), (3, 713), (2, 752), (2, 754), (1, 818), (1, 836), (1, 878), (1, 896), (2, 958), (2, 960), (2, 992), (2, 994), (1, 1058), (1, 1076), (2, 1138), (2, 1142), (2, 1172), (2, 1174), (1, 1238)]\n",
      "[(2, 331), (1, 399), (1, 408), (1, 458), (1, 475), (2, 538), (2, 542), (2, 572), (2, 574), (2, 598), (2, 603), (2, 632), (2, 634), (1, 698), (1, 716), (1, 758), (1, 776), (1, 818), (1, 836), (2, 898), (2, 902), (3, 941), (3, 943), (4, 998), (4, 1016), (3, 1070), (3, 1073), (3, 1122), (3, 1124), (4, 1179)]\n",
      "[(2, 331), (2, 388), (2, 389), (2, 420), (3, 460), (3, 463), (4, 518), (4, 536), (3, 590), (3, 593), (2, 632), (2, 634), (1, 698), (1, 716), (2, 778), (2, 782), (3, 821), (3, 823), (4, 878), (4, 896), (3, 950), (3, 953), (3, 1003), (3, 1005), (4, 1060), (4, 1076), (3, 1130)]\n",
      "[(2, 331), (2, 388), (2, 389), (2, 420), (2, 446), (2, 452), (1, 518), (1, 536), (1, 580), (1, 596), (1, 638), (1, 656), (1, 698), (1, 716), (1, 758), (1, 776), (1, 818), (1, 836), (1, 878), (1, 896), (1, 938), (1, 956), (2, 1018), (2, 1021), (2, 1053), (2, 1055), (1, 1118)]\n",
      "[(2, 331), (1, 399), (1, 408), (2, 475), (2, 481), (3, 521), (3, 523), (4, 578), (4, 596), (3, 650), (3, 653), (2, 692), (2, 694), (2, 718), (2, 723), (3, 761), (3, 763), (4, 818), (4, 836), (3, 890), (3, 893), (2, 932), (2, 934), (2, 958), (2, 960), (2, 992), (2, 994), (2, 1018), (2, 1021), (3, 1063), (3, 1065), (4, 1120)]\n",
      "[(2, 331), (1, 399), (1, 408), (2, 475), (2, 481), (2, 512), (2, 515), (1, 580), (1, 596), (1, 638), (1, 656), (1, 698), (1, 716), (1, 758), (1, 776), (1, 818), (1, 836), (1, 878), (1, 896), (2, 958), (2, 960), (2, 992), (2, 994), (1, 1058), (1, 1076), (2, 1138)]\n",
      "[(2, 331), (1, 399), (1, 408), (1, 458), (1, 475), (1, 518), (1, 536), (1, 580), (1, 596), (1, 638), (1, 656), (1, 698), (1, 716), (1, 758), (1, 776), (1, 818), (1, 836), (1, 878), (1, 896), (2, 958), (2, 960), (3, 1003), (3, 1005), (4, 1060)]\n",
      "[(2, 331), (1, 399), (1, 408), (1, 458), (1, 475), (1, 518), (1, 536), (1, 580), (1, 596), (1, 638), (1, 656), (1, 698), (1, 716), (1, 758), (1, 776), (2, 838), (2, 842), (3, 881), (3, 883), (4, 938), (4, 956), (3, 1010), (3, 1013), (2, 1053), (2, 1055), (2, 1078), (2, 1081), (2, 1112), (2, 1114), (1, 1178)]\n",
      "[(3, 329), (2, 388), (2, 389), (1, 458), (1, 475), (2, 538), (2, 542), (3, 581), (3, 583), (3, 590), (3, 593), (2, 632), (2, 634), (1, 698), (1, 716), (1, 758), (1, 776), (2, 838), (2, 842), (3, 881), (3, 883), (3, 890), (3, 893), (2, 932), (2, 934), (1, 1000), (1, 1016), (2, 1078), (2, 1081), (3, 1122), (3, 1124), (3, 1130), (3, 1133), (2, 1172), (2, 1174), (1, 1238), (1, 1256), (2, 1318), (2, 1322), (3, 1361)]\n",
      "[(3, 329), (3, 395), (3, 403), (2, 446), (2, 452), (1, 518), (1, 536), (2, 598), (2, 603), (3, 643), (3, 645), (4, 698), (4, 716), (3, 770), (3, 773), (2, 812), (2, 815), (2, 838), (2, 842), (2, 872), (2, 875), (1, 938), (1, 956), (2, 1018), (2, 1021), (3, 1063), (3, 1065), (4, 1120), (4, 1136), (3, 1190), (3, 1193), (3, 1241), (3, 1243), (4, 1298)]\n",
      "[(3, 329), (2, 388), (2, 389), (2, 420), (3, 460), (3, 463), (4, 518), (4, 536), (3, 590), (3, 593), (2, 632), (2, 634), (1, 698), (1, 716), (2, 778), (2, 782), (3, 821), (3, 823), (4, 878), (4, 896), (3, 950), (3, 953), (2, 992), (2, 994), (1, 1058), (1, 1076), (2, 1138), (2, 1142), (3, 1181), (3, 1183), (4, 1238)]\n",
      "[(3, 329), (3, 395), (3, 403), (2, 446), (2, 452), (1, 518), (1, 536), (2, 598), (2, 603), (3, 643), (3, 645), (4, 698), (4, 716), (3, 770), (3, 773), (2, 812), (2, 815), (1, 878), (1, 896), (1, 938), (1, 956), (2, 1018), (2, 1021), (3, 1063), (3, 1065), (4, 1120), (4, 1136), (3, 1190), (3, 1193), (2, 1232), (2, 1235), (1, 1298), (1, 1316), (2, 1378)]\n"
     ]
    }
   ],
   "source": [
    "for paths in starting_trains.values():\n",
    "    for path in paths:\n",
    "        print(path)"
   ]
  },
  {
   "cell_type": "code",
   "execution_count": 7,
   "metadata": {},
   "outputs": [
    {
     "name": "stdout",
     "output_type": "stream",
     "text": [
      "((2, 331), (3, 329), (4, 330), (1, 399))\n",
      "1\n",
      "1\n",
      "1\n",
      "1\n",
      "1\n",
      "1\n",
      "1\n",
      "1\n",
      "1\n",
      "1\n",
      "1\n",
      "1\n",
      "1\n",
      "1\n",
      "1\n",
      "1\n",
      "1\n",
      "1\n",
      "1\n",
      "1\n",
      "1\n",
      "1\n",
      "1\n",
      "1\n"
     ]
    }
   ],
   "source": [
    "starting_stops = tuple(traintools.find_starting_trainstops(G))\n",
    "ending_stops = tuple(traintools.find_ending_trainstops(G))\n",
    "\n",
    "print(starting_stops)\n",
    "\n",
    "for paths in starting_trains.values():\n",
    "    for path in paths:\n",
    "        print(sum(1 for trainstop in starting_stops if nx.has_path(G, trainstop, path[0])))"
   ]
  },
  {
   "cell_type": "code",
   "execution_count": 8,
   "metadata": {},
   "outputs": [
    {
     "name": "stdout",
     "output_type": "stream",
     "text": [
      "1\n",
      "1\n",
      "4\n",
      "4\n",
      "4\n",
      "1\n",
      "2\n",
      "4\n",
      "4\n",
      "1\n",
      "4\n",
      "3\n",
      "4\n",
      "4\n",
      "1\n",
      "1\n",
      "1\n",
      "4\n",
      "1\n",
      "1\n",
      "4\n",
      "4\n",
      "4\n",
      "4\n"
     ]
    }
   ],
   "source": [
    "for paths in ending_trains.values():\n",
    "    for path in paths:\n",
    "        print(sum(1 for trainstop in ending_stops if nx.has_path(G, path[-1], trainstop)))"
   ]
  },
  {
   "cell_type": "code",
   "execution_count": 9,
   "metadata": {},
   "outputs": [],
   "source": [
    "# 0.\n",
    "# Create a list of lists (or tuple of tuples, or some combination) that can be searched by using backtracking \n",
    "# to find a solution in which the endpoints are fixed."
   ]
  },
  {
   "cell_type": "code",
   "execution_count": null,
   "metadata": {},
   "outputs": [],
   "source": [
    "# 1.\n",
    "# Create a function that determines wheter it is sufficient\n",
    "# to weight by only second class passengers. \n",
    "# I.e. a function that determines the bottle neck when calculation the \n",
    "# minimum number of trains on each trip"
   ]
  },
  {
   "cell_type": "code",
   "execution_count": null,
   "metadata": {},
   "outputs": [],
   "source": [
    "# 2.\n",
    "# Switch the visualization to plot from nx.DiGraph instead\n",
    "# of plotting from pd.DataFrame, this will enable fast checking of \n",
    "# intuitive statements about what the train trajectories look like."
   ]
  }
 ],
 "metadata": {
  "interpreter": {
   "hash": "b3ba2566441a7c06988d0923437866b63cedc61552a5af99d1f4fb67d367b25f"
  },
  "kernelspec": {
   "display_name": "Python 3.8.8 ('base')",
   "language": "python",
   "name": "python3"
  },
  "language_info": {
   "codemirror_mode": {
    "name": "ipython",
    "version": 3
   },
   "file_extension": ".py",
   "mimetype": "text/x-python",
   "name": "python",
   "nbconvert_exporter": "python",
   "pygments_lexer": "ipython3",
   "version": "3.8.8"
  },
  "orig_nbformat": 4
 },
 "nbformat": 4,
 "nbformat_minor": 2
}
