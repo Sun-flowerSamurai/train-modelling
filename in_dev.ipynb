{
 "cells": [
  {
   "cell_type": "code",
   "execution_count": 22,
   "metadata": {},
   "outputs": [],
   "source": [
    "import pandas as pd\n",
    "import traintools\n",
    "from trainconstants import *\n",
    "from collections import defaultdict\n",
    "import networkx as nx\n",
    "from typing import List, Tuple\n",
    "\n",
    "TrainStop = Tuple[int, int]"
   ]
  },
  {
   "cell_type": "code",
   "execution_count": 23,
   "metadata": {},
   "outputs": [],
   "source": [
    "def attempt_solution_1(G: nx.DiGraph) -> Tuple[int, defaultdict, defaultdict]:\n",
    "    \"\"\"Here is a first attempt at a solution for trains of only one type.\n",
    "\n",
    "    The solution works a follows:\n",
    "    * start by finding the longest path in the graph\n",
    "    * next go through that longest path and subtract the \n",
    "    maximum number of passengers that can fit in the train on each\n",
    "    part of the trip\n",
    "    * recalculate a new longest path in the altered graph and repeat until the \n",
    "    longest path consists of only one node.\n",
    "    * meanwhile keep track of how many trains were needed and at which stations the trains start and end.\n",
    "\n",
    "    Known problems:\n",
    "    * The algorithm will think that it is \"better\" to choose a trip where there are 1000\n",
    "    passengers to be transported than to choose a trip where there are 500 passengers to be transported\n",
    "    eventhough both exeed the capacity of the train so they would both be equilly valid options.\n",
    "    * the number of trains starting and ending at each station is not the same \n",
    "    * the solution is incorrect because of the point mentioned above.\n",
    "    \"\"\"\n",
    "\n",
    "    def do_bookkeeping(path: List[TrainStop]) -> None:\n",
    "        \"\"\"Update the variables that keep track of the total number of trains \n",
    "        and where they start and end.\n",
    "        \"\"\"\n",
    "        nonlocal starting_trains, ending_trains, number_of_trains\n",
    "\n",
    "        starting_trains[path[0][0]].append(path)\n",
    "        ending_trains[path[-1][0]].append(path)\n",
    "        number_of_trains += 1\n",
    "\n",
    "    # set up variables to keep track of the number of trains and at which stations the trains start and end.\n",
    "    starting_trains, ending_trains, number_of_trains = defaultdict(list), defaultdict(list), 0\n",
    "\n",
    "    # find the longest path in the graph\n",
    "    path = nx.dag_longest_path(G, weight='second_class')\n",
    "\n",
    "    do_bookkeeping(path)\n",
    "\n",
    "    # repeat until the longest path consists of only one node\n",
    "    while len(path) != 1:\n",
    "        # go through the longest path and pick up the maximal number of passengers on the way\n",
    "        for index, current_stop in enumerate(path[:-1]):\n",
    "            next_stop = path[index + 1]\n",
    "            G[current_stop][next_stop]['first_class'] -= min(TYPE_3_TRAIN[0], G[current_stop][next_stop]['first_class'])\n",
    "            G[current_stop][next_stop]['second_class'] -= min(TYPE_3_TRAIN[1], G[current_stop][next_stop]['second_class'])\n",
    "        \n",
    "        # recompute the longest path \n",
    "        path = nx.dag_longest_path(G, weight='second_class')\n",
    "\n",
    "        do_bookkeeping(path)\n",
    "\n",
    "    return (\n",
    "        number_of_trains, \n",
    "        {key: len(value) for key, value in starting_trains.items()},\n",
    "        {key: len(value) for key, value in ending_trains.items()}\n",
    "        )"
   ]
  },
  {
   "cell_type": "code",
   "execution_count": 24,
   "metadata": {},
   "outputs": [
    {
     "ename": "AttributeError",
     "evalue": "module 'traintools' has no attribute 'graph_from_schedule'",
     "output_type": "error",
     "traceback": [
      "\u001b[1;31m---------------------------------------------------------------------------\u001b[0m",
      "\u001b[1;31mAttributeError\u001b[0m                            Traceback (most recent call last)",
      "\u001b[1;32m<ipython-input-24-5ef3431ff5ef>\u001b[0m in \u001b[0;36m<module>\u001b[1;34m\u001b[0m\n\u001b[0;32m      1\u001b[0m \u001b[0mdf\u001b[0m \u001b[1;33m=\u001b[0m \u001b[0mtraintools\u001b[0m\u001b[1;33m.\u001b[0m\u001b[0mread_schedule\u001b[0m\u001b[1;33m(\u001b[0m\u001b[1;34m\"datasets/nsdata1.txt\"\u001b[0m\u001b[1;33m)\u001b[0m\u001b[1;33m\u001b[0m\u001b[1;33m\u001b[0m\u001b[0m\n\u001b[1;32m----> 2\u001b[1;33m \u001b[0mG\u001b[0m \u001b[1;33m=\u001b[0m \u001b[0mtraintools\u001b[0m\u001b[1;33m.\u001b[0m\u001b[0mgraph_from_schedule\u001b[0m\u001b[1;33m(\u001b[0m\u001b[0mdf\u001b[0m\u001b[1;33m)\u001b[0m\u001b[1;33m\u001b[0m\u001b[1;33m\u001b[0m\u001b[0m\n\u001b[0m\u001b[0;32m      3\u001b[0m \u001b[1;33m\u001b[0m\u001b[0m\n\u001b[0;32m      4\u001b[0m \u001b[1;33m\u001b[0m\u001b[0m\n\u001b[0;32m      5\u001b[0m \u001b[0mprint\u001b[0m\u001b[1;33m(\u001b[0m\u001b[0mattempt_solution_1\u001b[0m\u001b[1;33m(\u001b[0m\u001b[0mG\u001b[0m\u001b[1;33m.\u001b[0m\u001b[0mcopy\u001b[0m\u001b[1;33m(\u001b[0m\u001b[1;33m)\u001b[0m\u001b[1;33m)\u001b[0m\u001b[1;33m)\u001b[0m\u001b[1;33m\u001b[0m\u001b[1;33m\u001b[0m\u001b[0m\n",
      "\u001b[1;31mAttributeError\u001b[0m: module 'traintools' has no attribute 'graph_from_schedule'"
     ]
    }
   ],
   "source": [
    "df = traintools.read_schedule(\"datasets/nsdata1.txt\")\n",
    "G = traintools.graph_from_schedule(df)\n",
    "\n",
    "\n",
    "print(attempt_solution_1(G.copy()))"
   ]
  },
  {
   "cell_type": "code",
   "execution_count": 21,
   "metadata": {},
   "outputs": [],
   "source": [
    "def attempt_solution_2(G: nx.DiGraph) -> Tuple[int, defaultdict, defaultdict]:\n",
    "    \"\"\"Here is a second attempt, it is very similar but tries to fix the endpoints.\n",
    "\n",
    "    This is done through the use of the fact that nx.dag_longest_path returns \"the shortest\" \n",
    "    longest path. Meaning that when the weight of the edges is 0, it does not add any of those edges \n",
    "    to the front or to the end of the longest path. This means that we can try to\n",
    "    add (all the trains that do not pick up passengers everywhere) empty trips to the front and the back of \n",
    "    these trains and see if we can connect them in a way such that the number of trains at each station \n",
    "    at the beginning of the day is equal to the number of trains at the end of the day. \n",
    "\n",
    "    Note:\n",
    "    * Did not actually implement this yet, as of now this is pretty much the same as solution above.\n",
    "    * I think this solution will be the one for the trains of just one type once the weighting of the passengers is also fixed, \n",
    "    which means we can slowly start thinking about the solution with mixed trains.\n",
    "    \"\"\"\n",
    "\n",
    "    def do_bookkeeping(path: List[TrainStop]) -> None:\n",
    "        \"\"\"Update the variables that keep track of the total number of trains \n",
    "        and where they start and end.\n",
    "        \"\"\"\n",
    "        nonlocal starting_trains, ending_trains, number_of_trains\n",
    "\n",
    "        starting_trains[path[0][0]].append(path)\n",
    "        ending_trains[path[-1][0]].append(path)\n",
    "        number_of_trains += 1\n",
    "\n",
    "    # set up variables to keep track of the number of trains and at which stations the trains start and end.\n",
    "    starting_trains, ending_trains, number_of_trains = defaultdict(list), defaultdict(list), 0\n",
    "\n",
    "    # find the longest path in the graph\n",
    "    path = nx.dag_longest_path(G, weight='second_class')\n",
    "\n",
    "    # keep track of the number of trains, and where they start and end\n",
    "    do_bookkeeping(path)\n",
    "\n",
    "    # repeat until the longest path consists of only one node\n",
    "    while len(path) != 1:\n",
    "        # go through the longest path and pick up the maximal number of passengers on the way\n",
    "        for index, current_stop in enumerate(path[:-1]):\n",
    "            next_stop = path[index + 1]\n",
    "            G[current_stop][next_stop]['first_class'] -= min(TYPE_3_TRAIN[0], G[current_stop][next_stop]['first_class'])\n",
    "            G[current_stop][next_stop]['second_class'] -= min(TYPE_3_TRAIN[1], G[current_stop][next_stop]['second_class'])\n",
    "        \n",
    "        # recompute the longest path \n",
    "        path = nx.dag_longest_path(G, weight='second_class')\n",
    "\n",
    "        # keep track of the number of trains, and where they start and end\n",
    "        do_bookkeeping(path)\n",
    "\n",
    "    return (\n",
    "        number_of_trains, \n",
    "        {key: len(value) for key, value in starting_trains.items()},\n",
    "        {key: len(value) for key, value in ending_trains.items()}\n",
    "        )"
   ]
  },
  {
   "cell_type": "code",
   "execution_count": 18,
   "metadata": {},
   "outputs": [
    {
     "name": "stdout",
     "output_type": "stream",
     "text": [
      "(25, {4: 8, 2: 13, 3: 4}, {3: 5, 2: 4, 1: 5, 4: 11})\n"
     ]
    }
   ],
   "source": [
    "print(attempt_solution_2(G.copy()))"
   ]
  },
  {
   "cell_type": "code",
   "execution_count": null,
   "metadata": {},
   "outputs": [],
   "source": []
  }
 ],
 "metadata": {
  "interpreter": {
   "hash": "b3ba2566441a7c06988d0923437866b63cedc61552a5af99d1f4fb67d367b25f"
  },
  "kernelspec": {
   "display_name": "Python 3.8.8 ('base')",
   "language": "python",
   "name": "python3"
  },
  "language_info": {
   "codemirror_mode": {
    "name": "ipython",
    "version": 3
   },
   "file_extension": ".py",
   "mimetype": "text/x-python",
   "name": "python",
   "nbconvert_exporter": "python",
   "pygments_lexer": "ipython3",
   "version": "3.8.8"
  },
  "orig_nbformat": 4
 },
 "nbformat": 4,
 "nbformat_minor": 2
}
