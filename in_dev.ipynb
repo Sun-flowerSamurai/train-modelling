{
 "cells": [
  {
   "cell_type": "code",
   "execution_count": 1,
   "metadata": {},
   "outputs": [
    {
     "data": {
      "text/html": [
       "<div>\n",
       "<style scoped>\n",
       "    .dataframe tbody tr th:only-of-type {\n",
       "        vertical-align: middle;\n",
       "    }\n",
       "\n",
       "    .dataframe tbody tr th {\n",
       "        vertical-align: top;\n",
       "    }\n",
       "\n",
       "    .dataframe thead th {\n",
       "        text-align: right;\n",
       "    }\n",
       "</style>\n",
       "<table border=\"1\" class=\"dataframe\">\n",
       "  <thead>\n",
       "    <tr style=\"text-align: right;\">\n",
       "      <th></th>\n",
       "      <th>train_number</th>\n",
       "      <th>from</th>\n",
       "      <th>to</th>\n",
       "      <th>departure_time</th>\n",
       "      <th>arrival_time</th>\n",
       "      <th>first_class</th>\n",
       "      <th>second_class</th>\n",
       "    </tr>\n",
       "  </thead>\n",
       "  <tbody>\n",
       "    <tr>\n",
       "      <th>0</th>\n",
       "      <td>2123</td>\n",
       "      <td>2</td>\n",
       "      <td>3</td>\n",
       "      <td>420</td>\n",
       "      <td>460</td>\n",
       "      <td>4</td>\n",
       "      <td>58</td>\n",
       "    </tr>\n",
       "    <tr>\n",
       "      <th>1</th>\n",
       "      <td>2123</td>\n",
       "      <td>3</td>\n",
       "      <td>4</td>\n",
       "      <td>463</td>\n",
       "      <td>518</td>\n",
       "      <td>14</td>\n",
       "      <td>328</td>\n",
       "    </tr>\n",
       "    <tr>\n",
       "      <th>2</th>\n",
       "      <td>2127</td>\n",
       "      <td>1</td>\n",
       "      <td>2</td>\n",
       "      <td>408</td>\n",
       "      <td>475</td>\n",
       "      <td>47</td>\n",
       "      <td>340</td>\n",
       "    </tr>\n",
       "    <tr>\n",
       "      <th>3</th>\n",
       "      <td>2127</td>\n",
       "      <td>2</td>\n",
       "      <td>3</td>\n",
       "      <td>481</td>\n",
       "      <td>521</td>\n",
       "      <td>35</td>\n",
       "      <td>272</td>\n",
       "    </tr>\n",
       "    <tr>\n",
       "      <th>4</th>\n",
       "      <td>2127</td>\n",
       "      <td>3</td>\n",
       "      <td>4</td>\n",
       "      <td>523</td>\n",
       "      <td>578</td>\n",
       "      <td>19</td>\n",
       "      <td>181</td>\n",
       "    </tr>\n",
       "  </tbody>\n",
       "</table>\n",
       "</div>"
      ],
      "text/plain": [
       "   train_number  from  to  departure_time  arrival_time  first_class  \\\n",
       "0          2123     2   3             420           460            4   \n",
       "1          2123     3   4             463           518           14   \n",
       "2          2127     1   2             408           475           47   \n",
       "3          2127     2   3             481           521           35   \n",
       "4          2127     3   4             523           578           19   \n",
       "\n",
       "   second_class  \n",
       "0            58  \n",
       "1           328  \n",
       "2           340  \n",
       "3           272  \n",
       "4           181  "
      ]
     },
     "execution_count": 1,
     "metadata": {},
     "output_type": "execute_result"
    }
   ],
   "source": [
    "import pandas as pd\n",
    "import seaborn as sns\n",
    "import traintools\n",
    "from trainconstants import *\n",
    "from collections import defaultdict\n",
    "import networkx as nx\n",
    "\n",
    "sns.set()\n",
    "%matplotlib inline\n",
    "\n",
    "df = pd.read_csv(\"datasets/nsdata1.txt\",  delimiter=r\"\\s+\")\n",
    "df['departure_time'] = df['departure_time'].map(traintools.to_minutes_past_midnight)\n",
    "df['arrival_time'] = df['arrival_time'].map(traintools.to_minutes_past_midnight)\n",
    "df.head()"
   ]
  },
  {
   "cell_type": "code",
   "execution_count": 13,
   "metadata": {},
   "outputs": [
    {
     "data": {
      "text/plain": [
       "number of trains    22.0\n",
       "Name: 1055, dtype: float64"
      ]
     },
     "execution_count": 13,
     "metadata": {},
     "output_type": "execute_result"
    }
   ],
   "source": [
    "minimum_number_of_type_3_trains = traintools.minimum_number_of_trains_at_time_t(df, TYPE_3_TRAIN)\n",
    "rush_hour_peak = int(minimum_number_of_type_3_trains.idxmax())\n",
    "minimum_number_of_type_3_trains.loc[rush_hour_peak]"
   ]
  },
  {
   "cell_type": "code",
   "execution_count": 14,
   "metadata": {},
   "outputs": [
    {
     "data": {
      "text/html": [
       "<div>\n",
       "<style scoped>\n",
       "    .dataframe tbody tr th:only-of-type {\n",
       "        vertical-align: middle;\n",
       "    }\n",
       "\n",
       "    .dataframe tbody tr th {\n",
       "        vertical-align: top;\n",
       "    }\n",
       "\n",
       "    .dataframe thead th {\n",
       "        text-align: right;\n",
       "    }\n",
       "</style>\n",
       "<table border=\"1\" class=\"dataframe\">\n",
       "  <thead>\n",
       "    <tr style=\"text-align: right;\">\n",
       "      <th></th>\n",
       "      <th>number of trains</th>\n",
       "      <th>time</th>\n",
       "    </tr>\n",
       "  </thead>\n",
       "  <tbody>\n",
       "    <tr>\n",
       "      <th>1055</th>\n",
       "      <td>22.0</td>\n",
       "      <td>0</td>\n",
       "    </tr>\n",
       "    <tr>\n",
       "      <th>1056</th>\n",
       "      <td>22.0</td>\n",
       "      <td>1</td>\n",
       "    </tr>\n",
       "    <tr>\n",
       "      <th>1057</th>\n",
       "      <td>22.0</td>\n",
       "      <td>2</td>\n",
       "    </tr>\n",
       "    <tr>\n",
       "      <th>1058</th>\n",
       "      <td>22.0</td>\n",
       "      <td>3</td>\n",
       "    </tr>\n",
       "    <tr>\n",
       "      <th>1059</th>\n",
       "      <td>18.0</td>\n",
       "      <td>4</td>\n",
       "    </tr>\n",
       "  </tbody>\n",
       "</table>\n",
       "</div>"
      ],
      "text/plain": [
       "      number of trains  time\n",
       "1055              22.0     0\n",
       "1056              22.0     1\n",
       "1057              22.0     2\n",
       "1058              22.0     3\n",
       "1059              18.0     4"
      ]
     },
     "execution_count": 14,
     "metadata": {},
     "output_type": "execute_result"
    }
   ],
   "source": [
    "# creating the new \"loop\" in the schedule\n",
    "start = minimum_number_of_type_3_trains.ne(0).idxmax()\n",
    "\n",
    "minimum_number_of_type_3_trains['time'] = minimum_number_of_type_3_trains.index\n",
    "\n",
    "tail = minimum_number_of_type_3_trains.loc[rush_hour_peak:].copy()\n",
    "head = minimum_number_of_type_3_trains.loc[start[0]:rush_hour_peak].copy()\n",
    "head['time'] = head['time'].map(lambda x: x + 1440)\n",
    "\n",
    "new_loop = pd.concat([tail, head])\n",
    "new_loop['time'] = new_loop['time'].map(lambda x:  x - rush_hour_peak)\n",
    "new_loop.head()\n",
    "\n",
    "# Do this logic but let new_loop also have the actual number of passengers stored somewhere"
   ]
  },
  {
   "cell_type": "code",
   "execution_count": 5,
   "metadata": {},
   "outputs": [],
   "source": [
    "schedule_network = pd.DataFrame()\n",
    "schedule_network['from'] = list(zip(df.from, df.departure_time))\n",
    "schedule_network['to'] = list(zip(df.to, df.arrival_time))\n",
    "\n",
    "G = nx.from_pandas_edgelist(df=schedule_network, source='from', target='to')#, edge_attr=['first_class', 'second_class'])"
   ]
  },
  {
   "cell_type": "code",
   "execution_count": 6,
   "metadata": {},
   "outputs": [
    {
     "data": {
      "text/plain": [
       "2"
      ]
     },
     "execution_count": 6,
     "metadata": {},
     "output_type": "execute_result"
    }
   ],
   "source": [
    "G.number_of_edges()"
   ]
  },
  {
   "cell_type": "code",
   "execution_count": null,
   "metadata": {},
   "outputs": [],
   "source": []
  }
 ],
 "metadata": {
  "interpreter": {
   "hash": "b3ba2566441a7c06988d0923437866b63cedc61552a5af99d1f4fb67d367b25f"
  },
  "kernelspec": {
   "display_name": "Python 3.8.8 ('base')",
   "language": "python",
   "name": "python3"
  },
  "language_info": {
   "codemirror_mode": {
    "name": "ipython",
    "version": 3
   },
   "file_extension": ".py",
   "mimetype": "text/x-python",
   "name": "python",
   "nbconvert_exporter": "python",
   "pygments_lexer": "ipython3",
   "version": "3.8.8"
  },
  "orig_nbformat": 4
 },
 "nbformat": 4,
 "nbformat_minor": 2
}
