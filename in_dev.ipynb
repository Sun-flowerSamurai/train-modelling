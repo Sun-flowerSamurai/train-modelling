{
 "cells": [
  {
   "cell_type": "code",
   "execution_count": 30,
   "metadata": {},
   "outputs": [],
   "source": [
    "import pandas as pd\n",
    "import traintools\n",
    "from trainconstants import *\n",
    "from collections import defaultdict\n",
    "import networkx as nx\n",
    "from typing import List, Tuple"
   ]
  },
  {
   "cell_type": "code",
   "execution_count": 31,
   "metadata": {},
   "outputs": [],
   "source": [
    "def create_network_schedule(df: pd.DataFrame) -> pd.DataFrame:\n",
    "    \"\"\"Creates a DataFrame which can be turned into a networkx graph.\n",
    "    \"\"\"\n",
    "\n",
    "    network_schedule = df[['first_class', 'second_class']].copy()\n",
    "    network_schedule['start'] = list(zip(df.start, df.departure_time))\n",
    "    network_schedule['end'] = list(zip(df.end, df.arrival_time))\n",
    "\n",
    "    return network_schedule\n",
    "\n",
    "\n",
    "def connect_stationary_nodes(G: nx.DiGraph) -> None:\n",
    "    \"\"\"Connects all nodes to the next node in time at the same station.\n",
    "    \"\"\"\n",
    "    \n",
    "    nodes_per_station = defaultdict(list)\n",
    "\n",
    "    # create dict with each station as a key and all stops to / from that station in a list as the value \n",
    "    for node in G.nodes:\n",
    "        nodes_per_station[node[0]].append(node)\n",
    "\n",
    "\n",
    "    for station in nodes_per_station.keys():\n",
    "        # sort the stations so they appear in chronological order in the list\n",
    "        nodes_per_station[station].sort()\n",
    "\n",
    "        # connect each stop to the next stop in time at the same station\n",
    "        for index, stop in enumerate(nodes_per_station[station][:-1]):\n",
    "            G.add_edge(stop, nodes_per_station[station][index + 1], first_class=0, second_class=0)\n",
    "\n",
    "\n",
    "def graph_from_schedule(df: pd.DataFrame) -> nx.DiGraph:\n",
    "    \"\"\"Creates a digraph from the schedule.\n",
    "    \"\"\"\n",
    "    \n",
    "    # create the dataframe in the needed format for the creation of a graph\n",
    "    schedule_network = create_network_schedule(df)\n",
    "\n",
    "    # create the graph\n",
    "    G = nx.from_pandas_edgelist(\n",
    "        df=schedule_network, \n",
    "        source='start', \n",
    "        target='end', \n",
    "        edge_attr=['first_class', 'second_class'], \n",
    "        create_using=nx.DiGraph\n",
    "        )\n",
    "    \n",
    "    # add the stationary connections that correspond to staying at any given station\n",
    "    connect_stationary_nodes(G)\n",
    "\n",
    "    return G\n"
   ]
  },
  {
   "cell_type": "code",
   "execution_count": 32,
   "metadata": {},
   "outputs": [],
   "source": [
    "def attempt_solution_1(G: nx.DiGraph) -> Tuple[int, defaultdict, defaultdict]:\n",
    "    \"\"\"Here is a first attempt at a solution for trains of only one type.\n",
    "\n",
    "    The solution works a follows:\n",
    "    * start by finding the longest path in the graph\n",
    "    * next go through that longest path and subtract the \n",
    "    maximum number of passengers that can fit in the train on each\n",
    "    part of the trip\n",
    "    * recalculate a new longest path in the altered graph and repeat until the \n",
    "    longest path consists of only one node.\n",
    "    * meanwhile keep track of how many trains were needed and at which stations the trains start and end.\n",
    "\n",
    "    Known problems:\n",
    "    * The algorithm will think that it is \"better\" to choose a trip where there are 1000\n",
    "    passengers to be transported than to choose a trip where there are 500 passengers to be transported\n",
    "    eventhough both exeed the capacity of the train so they would both be equilly valid options.\n",
    "    * the number of trains starting and ending at each station is not the same \n",
    "    * the solution is incorrect because of the point mentioned above.\n",
    "    \"\"\"\n",
    "\n",
    "    # to keep track of at which stations the trains start and end.\n",
    "    starting_trains = defaultdict(int)\n",
    "    ending_trains = defaultdict(int)\n",
    "\n",
    "    # find the longest path in the graph\n",
    "    path = nx.dag_longest_path(G, weight='second_class')\n",
    "\n",
    "    # keep track of the number of trains, and where they start and end\n",
    "    starting_trains[path[0][0]] += 1\n",
    "    ending_trains[path[-1][0]] += 1\n",
    "    number_of_trains = 1\n",
    "\n",
    "    # repeat until the longest path consists of only one node\n",
    "    while len(path) != 1:\n",
    "        # go through the longest path and pick up the maximal number of passengers on the way\n",
    "        for index, current_stop in enumerate(path[:-1]):\n",
    "            next_stop = path[index + 1]\n",
    "            G[current_stop][next_stop]['first_class'] -= min(TYPE_3_TRAIN[0], G[current_stop][next_stop]['first_class'])\n",
    "            G[current_stop][next_stop]['second_class'] -= min(TYPE_3_TRAIN[1], G[current_stop][next_stop]['second_class'])\n",
    "        \n",
    "        # recompute the longest path \n",
    "        path = nx.dag_longest_path(G, weight='second_class')\n",
    "\n",
    "        # keep track of the number of trains, and where they start and end\n",
    "        starting_trains[path[0][0]] += 1\n",
    "        ending_trains[path[-1][0]] += 1\n",
    "        number_of_trains += 1\n",
    "\n",
    "    return(number_of_trains, starting_trains, ending_trains)"
   ]
  },
  {
   "cell_type": "code",
   "execution_count": 33,
   "metadata": {},
   "outputs": [
    {
     "name": "stdout",
     "output_type": "stream",
     "text": [
      "(25, defaultdict(<class 'int'>, {4: 8, 2: 13, 3: 4}), defaultdict(<class 'int'>, {3: 5, 2: 4, 1: 5, 4: 11}))\n"
     ]
    }
   ],
   "source": [
    "df = traintools.read_schedule(\"datasets/nsdata1.txt\")\n",
    "G = graph_from_schedule(df)\n",
    "\n",
    "\n",
    "print(attempt_solution_1(G.copy()))"
   ]
  },
  {
   "cell_type": "code",
   "execution_count": 38,
   "metadata": {},
   "outputs": [],
   "source": [
    "def attempt_solution_2(G: nx.DiGraph) -> Tuple[int, defaultdict, defaultdict]:\n",
    "    \"\"\"Here is a second attempt, it is very similar but tries to fix the endpoints.\n",
    "\n",
    "    This is done through the use of the fact that nx.dag_longest_path returns \"the shortest\" \n",
    "    longest path. Meaning that when the weight of the edges is 0, it does not add any of those edges \n",
    "    to the front or to the end of the longest path. This means that we can try to\n",
    "    add (all the trains that do not pick up passengers everywhere) empty trips to the front and the back of \n",
    "    these trains and see if we can connect them in a way such that the number of trains at each station \n",
    "    at the beginning of the day is equal to the number of trains at the end of the day. \n",
    "\n",
    "    Note:\n",
    "    * Did not actually implement this yet, as of now this is pretty much the same as solution above.\n",
    "    * I think this solution will be the one for the trains of just one type once the weighting of the passengers is also fixed, \n",
    "    which means we can slowly start thinking about the solution with mixed trains.\n",
    "    \"\"\"\n",
    "\n",
    "    # to keep track of at which stations the trains start and end.\n",
    "    starting_trains = defaultdict(list)\n",
    "    ending_trains = defaultdict(list)\n",
    "\n",
    "    # find the longest path in the graph\n",
    "    path = nx.dag_longest_path(G, weight='second_class')\n",
    "\n",
    "    # keep track of the number of trains, and where they start and end\n",
    "    starting_trains[path[0][0]].append(path)\n",
    "    ending_trains[path[-1][0]].append(path)\n",
    "    number_of_trains = 1\n",
    "\n",
    "    # repeat until the longest path consists of only one node\n",
    "    while len(path) != 1:\n",
    "        # go through the longest path and pick up the maximal number of passengers on the way\n",
    "        for index, current_stop in enumerate(path[:-1]):\n",
    "            next_stop = path[index + 1]\n",
    "            G[current_stop][next_stop]['first_class'] -= min(TYPE_3_TRAIN[0], G[current_stop][next_stop]['first_class'])\n",
    "            G[current_stop][next_stop]['second_class'] -= min(TYPE_3_TRAIN[1], G[current_stop][next_stop]['second_class'])\n",
    "        \n",
    "        # recompute the longest path \n",
    "        path = nx.dag_longest_path(G, weight='second_class')\n",
    "\n",
    "        # keep track of the number of trains, and where they start and end\n",
    "        starting_trains[path[0][0]].append(path)\n",
    "        ending_trains[path[-1][0]].append(path)\n",
    "        number_of_trains += 1\n",
    "\n",
    "    number_of_starting_trains = {key: len(value) for key, value in starting_trains.items()}\n",
    "    number_of_ending_trains = {key: len(value) for key, value in ending_trains.items()}\n",
    "\n",
    "    return(number_of_trains, number_of_starting_trains, number_of_ending_trains)"
   ]
  },
  {
   "cell_type": "code",
   "execution_count": 39,
   "metadata": {},
   "outputs": [
    {
     "name": "stdout",
     "output_type": "stream",
     "text": [
      "(25, {4: 8, 2: 13, 3: 4}, {3: 5, 2: 4, 1: 5, 4: 11})\n"
     ]
    }
   ],
   "source": [
    "print(attempt_solution_2(G.copy()))"
   ]
  },
  {
   "cell_type": "code",
   "execution_count": null,
   "metadata": {},
   "outputs": [],
   "source": []
  }
 ],
 "metadata": {
  "interpreter": {
   "hash": "b3ba2566441a7c06988d0923437866b63cedc61552a5af99d1f4fb67d367b25f"
  },
  "kernelspec": {
   "display_name": "Python 3.8.8 ('base')",
   "language": "python",
   "name": "python3"
  },
  "language_info": {
   "codemirror_mode": {
    "name": "ipython",
    "version": 3
   },
   "file_extension": ".py",
   "mimetype": "text/x-python",
   "name": "python",
   "nbconvert_exporter": "python",
   "pygments_lexer": "ipython3",
   "version": "3.8.8"
  },
  "orig_nbformat": 4
 },
 "nbformat": 4,
 "nbformat_minor": 2
}
