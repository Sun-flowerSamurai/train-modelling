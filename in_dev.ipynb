{
 "cells": [
  {
   "cell_type": "code",
   "execution_count": 33,
   "metadata": {},
   "outputs": [
    {
     "data": {
      "text/html": [
       "<div>\n",
       "<style scoped>\n",
       "    .dataframe tbody tr th:only-of-type {\n",
       "        vertical-align: middle;\n",
       "    }\n",
       "\n",
       "    .dataframe tbody tr th {\n",
       "        vertical-align: top;\n",
       "    }\n",
       "\n",
       "    .dataframe thead th {\n",
       "        text-align: right;\n",
       "    }\n",
       "</style>\n",
       "<table border=\"1\" class=\"dataframe\">\n",
       "  <thead>\n",
       "    <tr style=\"text-align: right;\">\n",
       "      <th></th>\n",
       "      <th>train_number</th>\n",
       "      <th>start</th>\n",
       "      <th>end</th>\n",
       "      <th>departure_time</th>\n",
       "      <th>arrival_time</th>\n",
       "      <th>first_class</th>\n",
       "      <th>second_class</th>\n",
       "    </tr>\n",
       "  </thead>\n",
       "  <tbody>\n",
       "    <tr>\n",
       "      <th>0</th>\n",
       "      <td>2123</td>\n",
       "      <td>2</td>\n",
       "      <td>3</td>\n",
       "      <td>420</td>\n",
       "      <td>460</td>\n",
       "      <td>4</td>\n",
       "      <td>58</td>\n",
       "    </tr>\n",
       "    <tr>\n",
       "      <th>1</th>\n",
       "      <td>2123</td>\n",
       "      <td>3</td>\n",
       "      <td>4</td>\n",
       "      <td>463</td>\n",
       "      <td>518</td>\n",
       "      <td>14</td>\n",
       "      <td>328</td>\n",
       "    </tr>\n",
       "    <tr>\n",
       "      <th>2</th>\n",
       "      <td>2127</td>\n",
       "      <td>1</td>\n",
       "      <td>2</td>\n",
       "      <td>408</td>\n",
       "      <td>475</td>\n",
       "      <td>47</td>\n",
       "      <td>340</td>\n",
       "    </tr>\n",
       "    <tr>\n",
       "      <th>3</th>\n",
       "      <td>2127</td>\n",
       "      <td>2</td>\n",
       "      <td>3</td>\n",
       "      <td>481</td>\n",
       "      <td>521</td>\n",
       "      <td>35</td>\n",
       "      <td>272</td>\n",
       "    </tr>\n",
       "    <tr>\n",
       "      <th>4</th>\n",
       "      <td>2127</td>\n",
       "      <td>3</td>\n",
       "      <td>4</td>\n",
       "      <td>523</td>\n",
       "      <td>578</td>\n",
       "      <td>19</td>\n",
       "      <td>181</td>\n",
       "    </tr>\n",
       "  </tbody>\n",
       "</table>\n",
       "</div>"
      ],
      "text/plain": [
       "   train_number  start  end  departure_time  arrival_time  first_class  \\\n",
       "0          2123      2    3             420           460            4   \n",
       "1          2123      3    4             463           518           14   \n",
       "2          2127      1    2             408           475           47   \n",
       "3          2127      2    3             481           521           35   \n",
       "4          2127      3    4             523           578           19   \n",
       "\n",
       "   second_class  \n",
       "0            58  \n",
       "1           328  \n",
       "2           340  \n",
       "3           272  \n",
       "4           181  "
      ]
     },
     "execution_count": 33,
     "metadata": {},
     "output_type": "execute_result"
    }
   ],
   "source": [
    "import pandas as pd\n",
    "import seaborn as sns\n",
    "import traintools\n",
    "from trainconstants import *\n",
    "from collections import defaultdict\n",
    "import networkx as nx\n",
    "\n",
    "sns.set()\n",
    "%matplotlib inline\n",
    "\n",
    "df = pd.read_csv(\"datasets/nsdata1.txt\",  delimiter=r\"\\s+\")\n",
    "df['departure_time'] = df['departure_time'].map(traintools.to_minutes_past_midnight)\n",
    "df['arrival_time'] = df['arrival_time'].map(traintools.to_minutes_past_midnight)\n",
    "df.head()"
   ]
  },
  {
   "cell_type": "code",
   "execution_count": 34,
   "metadata": {},
   "outputs": [],
   "source": [
    "schedule_network= df.loc[:,['first_class', 'second_class']]\n",
    "schedule_network['start'] = list(zip(df.start, df.departure_time))\n",
    "schedule_network['end'] = list(zip(df.end, df.arrival_time))\n",
    "\n",
    "G = nx.from_pandas_edgelist(df=schedule_network, source='start', target='end', edge_attr=['first_class', 'second_class'])"
   ]
  },
  {
   "cell_type": "code",
   "execution_count": null,
   "metadata": {},
   "outputs": [],
   "source": []
  }
 ],
 "metadata": {
  "interpreter": {
   "hash": "b3ba2566441a7c06988d0923437866b63cedc61552a5af99d1f4fb67d367b25f"
  },
  "kernelspec": {
   "display_name": "Python 3.8.8 ('base')",
   "language": "python",
   "name": "python3"
  },
  "language_info": {
   "codemirror_mode": {
    "name": "ipython",
    "version": 3
   },
   "file_extension": ".py",
   "mimetype": "text/x-python",
   "name": "python",
   "nbconvert_exporter": "python",
   "pygments_lexer": "ipython3",
   "version": "3.8.8"
  },
  "orig_nbformat": 4
 },
 "nbformat": 4,
 "nbformat_minor": 2
}
