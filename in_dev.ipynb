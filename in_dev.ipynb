{
 "cells": [
  {
   "cell_type": "code",
   "execution_count": 2,
   "metadata": {},
   "outputs": [],
   "source": [
    "import pandas as pd\n",
    "import traintools\n",
    "from trainconstants import *\n",
    "from collections import defaultdict\n",
    "import networkx as nx\n",
    "from typing import List, Tuple"
   ]
  },
  {
   "cell_type": "code",
   "execution_count": 3,
   "metadata": {},
   "outputs": [],
   "source": [
    "def create_network_schedule(df: pd.DataFrame) -> pd.DataFrame:\n",
    "    \"\"\"Creates a DataFrame which can be turned into a networkx graph.\n",
    "    \"\"\"\n",
    "\n",
    "    network_schedule = df[['first_class', 'second_class']].copy()\n",
    "    network_schedule['start'] = list(zip(df.start, df.departure_time))\n",
    "    network_schedule['end'] = list(zip(df.end, df.arrival_time))\n",
    "\n",
    "    return network_schedule\n",
    "\n",
    "\n",
    "def connect_stationary_nodes(G: nx.DiGraph) -> None:\n",
    "    \"\"\"Connects all nodes to the next node in time at the same station.\n",
    "    \"\"\"\n",
    "    \n",
    "    nodes_per_station = defaultdict(list)\n",
    "\n",
    "    for node in G.nodes:\n",
    "        nodes_per_station[node[0]].append(node)\n",
    "\n",
    "    for station in nodes_per_station.keys():\n",
    "        nodes_per_station[station].sort()\n",
    "\n",
    "        for index, stop in enumerate(nodes_per_station[station][:-1]):\n",
    "            G.add_edge(stop, nodes_per_station[station][index + 1], first_class=0, second_class=0)\n",
    "\n",
    "\n",
    "def graph_from_schedule(df: pd.DataFrame) -> nx.DiGraph:\n",
    "    \"\"\"Creates a digraph from the schedule.\n",
    "    \"\"\"\n",
    "    \n",
    "    schedule_network = create_network_schedule(df)\n",
    "\n",
    "    G = nx.from_pandas_edgelist(\n",
    "        df=schedule_network, \n",
    "        source='start', \n",
    "        target='end', \n",
    "        edge_attr=['first_class', 'second_class'], \n",
    "        create_using=nx.DiGraph\n",
    "        )\n",
    "    \n",
    "    connect_stationary_nodes(G)\n",
    "\n",
    "    return G\n"
   ]
  },
  {
   "cell_type": "code",
   "execution_count": 11,
   "metadata": {},
   "outputs": [],
   "source": [
    "def attempt_solution_1(G: nx.DiGraph) -> Tuple[int, defaultdict, defaultdict]:\n",
    "    \"\"\"Here is a first attempt at a solution for trains of only one type.\n",
    "\n",
    "    The solution works a follows:\n",
    "    * start by finding the longest path in the graph\n",
    "    * next go through that longest path and subtract the \n",
    "    maximum number of passengers that can fit in the train on each\n",
    "    part of the trip\n",
    "    * recalculate a new longest path in the altered graph and repeat until the \n",
    "    longest path consists of only one node.\n",
    "\n",
    "    * meanwhile keep track of how many trains were needed and at which stations the trains start and end.\n",
    "\n",
    "    Known problems:\n",
    "    * The algorithm will think that it is \"better\" to choose a trip where there are 1000\n",
    "    passengers to be transported than to choose a trip where there are 500 passengers to be transported\n",
    "    eventhough the \n",
    "    * the number of trains starting and ending at each station is not the same \n",
    "    * the solution is incorrect because of the point mentioned above.\n",
    "    \"\"\"\n",
    "\n",
    "    # to keep track of at which stations the trains start and end.\n",
    "    starting_trains = defaultdict(int)\n",
    "    ending_trains = defaultdict(int)\n",
    "\n",
    "    # find the longest path in the graph\n",
    "    path = nx.dag_longest_path(G, weight='second_class')\n",
    "\n",
    "    # keep track of the number of trains, and where they start and end\n",
    "    starting_trains[path[0][0]] += 1\n",
    "    ending_trains[path[-1][0]] += 1\n",
    "    number_of_trains = 1\n",
    "\n",
    "    # repeat until the longest path consists of only one node\n",
    "    while len(path) != 1:\n",
    "        # go through the longest path and pick up the maximal number of passengers on the way\n",
    "        for index, stop in enumerate(path[:-1]):\n",
    "            G[stop][path[index + 1]]['first_class'] -= min(TYPE_3_TRAIN[0], G[stop][path[index + 1]]['first_class'])\n",
    "            G[stop][path[index + 1]]['second_class'] -= min(TYPE_3_TRAIN[1], G[stop][path[index + 1]]['second_class'])\n",
    "        \n",
    "        # recompute the longest path \n",
    "        path = nx.dag_longest_path(G, weight='second_class')\n",
    "\n",
    "        # keep track of the number of trains, and where they start and end\n",
    "        starting_trains[path[0][0]] += 1\n",
    "        ending_trains[path[-1][0]] += 1\n",
    "        number_of_trains += 1\n",
    "\n",
    "    return(number_of_trains, starting_trains, ending_trains)"
   ]
  },
  {
   "cell_type": "code",
   "execution_count": 13,
   "metadata": {},
   "outputs": [
    {
     "name": "stdout",
     "output_type": "stream",
     "text": [
      "(25, defaultdict(<class 'int'>, {4: 14, 2: 4, 3: 7}), defaultdict(<class 'int'>, {3: 5, 2: 4, 1: 5, 4: 11}))\n"
     ]
    }
   ],
   "source": [
    "df = traintools.read_schedule(\"datasets/nsdata1.txt\")\n",
    "G = graph_from_schedule(df)\n",
    "\n",
    "print(attempt_solution_1(G))"
   ]
  },
  {
   "cell_type": "code",
   "execution_count": null,
   "metadata": {},
   "outputs": [],
   "source": []
  }
 ],
 "metadata": {
  "interpreter": {
   "hash": "b3ba2566441a7c06988d0923437866b63cedc61552a5af99d1f4fb67d367b25f"
  },
  "kernelspec": {
   "display_name": "Python 3.8.8 ('base')",
   "language": "python",
   "name": "python3"
  },
  "language_info": {
   "codemirror_mode": {
    "name": "ipython",
    "version": 3
   },
   "file_extension": ".py",
   "mimetype": "text/x-python",
   "name": "python",
   "nbconvert_exporter": "python",
   "pygments_lexer": "ipython3",
   "version": "3.8.8"
  },
  "orig_nbformat": 4
 },
 "nbformat": 4,
 "nbformat_minor": 2
}
