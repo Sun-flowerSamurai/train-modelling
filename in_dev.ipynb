{
 "cells": [
  {
   "cell_type": "code",
   "execution_count": 27,
   "metadata": {},
   "outputs": [],
   "source": [
    "import pandas as pd\n",
    "import traintools\n",
    "from trainconstants import *\n",
    "from collections import defaultdict\n",
    "import networkx as nx\n",
    "from typing import List, Tuple"
   ]
  },
  {
   "cell_type": "code",
   "execution_count": 28,
   "metadata": {},
   "outputs": [],
   "source": [
    "def create_network_schedule(df: pd.DataFrame) -> pd.DataFrame:\n",
    "    \"\"\"Creates a DataFrame which can be turned into a networkx graph.\n",
    "    \"\"\"\n",
    "\n",
    "    network_schedule = df[['first_class', 'second_class']].copy()\n",
    "    network_schedule['start'] = list(zip(df.start, df.departure_time))\n",
    "    network_schedule['end'] = list(zip(df.end, df.arrival_time))\n",
    "\n",
    "    return network_schedule\n",
    "\n",
    "\n",
    "def connect_stationary_nodes(G: nx.DiGraph) -> None:\n",
    "    \"\"\"Connects all nodes to the next node in time at the same station.\n",
    "    \"\"\"\n",
    "    \n",
    "    nodes_per_station = defaultdict(list)\n",
    "\n",
    "    for node in G.nodes:\n",
    "        nodes_per_station[node[0]].append(node)\n",
    "\n",
    "    for station in nodes_per_station.keys():\n",
    "        nodes_per_station[station].sort()\n",
    "\n",
    "        for index, stop in enumerate(nodes_per_station[station][:-1]):\n",
    "            G.add_edge(stop, nodes_per_station[station][index + 1], edge_attr=(0, 0))\n",
    "\n",
    "\n",
    "def graph_from_schedule(df: pd.DataFrame) -> nx.DiGraph:\n",
    "    \"\"\"Creates a digraph from the schedule.\n",
    "    \"\"\"\n",
    "    \n",
    "    schedule_network = create_network_schedule(df)\n",
    "\n",
    "    G = nx.from_pandas_edgelist(\n",
    "        df=schedule_network, \n",
    "        source='start', \n",
    "        target='end', \n",
    "        edge_attr=['first_class', 'second_class'], \n",
    "        create_using=nx.DiGraph\n",
    "        )\n",
    "    \n",
    "    connect_stationary_nodes(G)\n",
    "\n",
    "    return G"
   ]
  },
  {
   "cell_type": "code",
   "execution_count": 29,
   "metadata": {},
   "outputs": [
    {
     "ename": "AttributeError",
     "evalue": "module 'traintools' has no attribute 'read_schedule'",
     "output_type": "error",
     "traceback": [
      "\u001b[1;31m---------------------------------------------------------------------------\u001b[0m",
      "\u001b[1;31mAttributeError\u001b[0m                            Traceback (most recent call last)",
      "\u001b[1;32m<ipython-input-29-2bb33f527ffe>\u001b[0m in \u001b[0;36m<module>\u001b[1;34m\u001b[0m\n\u001b[1;32m----> 1\u001b[1;33m \u001b[0mdf\u001b[0m \u001b[1;33m=\u001b[0m \u001b[0mtraintools\u001b[0m\u001b[1;33m.\u001b[0m\u001b[0mread_schedule\u001b[0m\u001b[1;33m(\u001b[0m\u001b[1;34m\"datasets/nsdata1.txt\"\u001b[0m\u001b[1;33m)\u001b[0m\u001b[1;33m\u001b[0m\u001b[1;33m\u001b[0m\u001b[0m\n\u001b[0m\u001b[0;32m      2\u001b[0m \u001b[0mG\u001b[0m \u001b[1;33m=\u001b[0m \u001b[0mgraph_from_schedule\u001b[0m\u001b[1;33m(\u001b[0m\u001b[0mdf\u001b[0m\u001b[1;33m)\u001b[0m\u001b[1;33m\u001b[0m\u001b[1;33m\u001b[0m\u001b[0m\n\u001b[0;32m      3\u001b[0m \u001b[1;32mfor\u001b[0m \u001b[0mstop\u001b[0m \u001b[1;32min\u001b[0m \u001b[0mnx\u001b[0m\u001b[1;33m.\u001b[0m\u001b[0mdag_longest_path\u001b[0m\u001b[1;33m(\u001b[0m\u001b[0mG\u001b[0m\u001b[1;33m,\u001b[0m \u001b[0mweight\u001b[0m\u001b[1;33m=\u001b[0m\u001b[1;34m'second_class'\u001b[0m\u001b[1;33m)\u001b[0m\u001b[1;33m:\u001b[0m\u001b[1;33m\u001b[0m\u001b[1;33m\u001b[0m\u001b[0m\n\u001b[0;32m      4\u001b[0m     \u001b[0mprint\u001b[0m\u001b[1;33m(\u001b[0m\u001b[0mstop\u001b[0m\u001b[1;33m)\u001b[0m\u001b[1;33m\u001b[0m\u001b[1;33m\u001b[0m\u001b[0m\n",
      "\u001b[1;31mAttributeError\u001b[0m: module 'traintools' has no attribute 'read_schedule'"
     ]
    }
   ],
   "source": [
    "df = traintools.read_schedule(\"datasets/nsdata1.txt\")\n",
    "\n",
    "G = graph_from_schedule(df)\n",
    "\n",
    "for stop in nx.dag_longest_path(G, weight='second_class'):\n",
    "    print(stop)\n"
   ]
  },
  {
   "cell_type": "code",
   "execution_count": 6,
   "metadata": {},
   "outputs": [],
   "source": [
    "def fill_train(graph: nx.DiGraph,  route: List[Tuple[int, int]], train_type: Tuple[int, int]):\n",
    "    \"\"\"Takes a train and fills it with passengers on the route and returns a new graph.\n",
    "    \"\"\"\n",
    "    \n",
    "    pass"
   ]
  },
  {
   "cell_type": "code",
   "execution_count": null,
   "metadata": {},
   "outputs": [],
   "source": []
  }
 ],
 "metadata": {
  "interpreter": {
   "hash": "b3ba2566441a7c06988d0923437866b63cedc61552a5af99d1f4fb67d367b25f"
  },
  "kernelspec": {
   "display_name": "Python 3.8.8 ('base')",
   "language": "python",
   "name": "python3"
  },
  "language_info": {
   "codemirror_mode": {
    "name": "ipython",
    "version": 3
   },
   "file_extension": ".py",
   "mimetype": "text/x-python",
   "name": "python",
   "nbconvert_exporter": "python",
   "pygments_lexer": "ipython3",
   "version": "3.8.8"
  },
  "orig_nbformat": 4
 },
 "nbformat": 4,
 "nbformat_minor": 2
}
